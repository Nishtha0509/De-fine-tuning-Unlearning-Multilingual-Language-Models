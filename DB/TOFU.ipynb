{
 "cells": [
  {
   "cell_type": "code",
   "execution_count": 6,
   "metadata": {},
   "outputs": [
    {
     "name": "stdout",
     "output_type": "stream",
     "text": [
      "{'model': 'llama3.2:latest', 'created_at': '2025-03-24T20:42:30.0235801Z', 'response': '다음 영어 문장을自然스럽고 정확하게 한국어로 번역해줍니다.\\n\\n1. What is the capital of France?\\n   프랑스의 수도는ไหน가요? (france의 meaning = 프랑스, 수도는 =capital)\\n\\n2. Who discovered penicillin?\\n   페니실린을 발견한 사람은 누구ですか? (penicillin: 페니실린, discovery: 발견하고, who:ใคร, discovered: 발견한, person: 사람, is:이사)\\n\\n3. What awards has Hina Ameen received?\\n   히나 아민이 수상한 상은 무엇인가요? (Hina Ameen: 히나 아민, receives:받음, has:있다, awards:상, received:수상한)\\n\\n4. In which genre does Hina Ameen primarily write?\\n   히나 아미는 주로 어떤 장르에서 작곡하는가? (Hina Ameen: 히나 아민, primarily:主要로, write:작곡, in: 내, which:어떤, genre: 장르, does:한다, writing: 작곡, primarily:주로)', 'done': True, 'done_reason': 'stop', 'context': [128006, 9125, 128007, 271, 38766, 1303, 33025, 2696, 25, 6790, 220, 2366, 18, 271, 128009, 128006, 882, 128007, 271, 13447, 49531, 117664, 54535, 115096, 124110, 25941, 107496, 35495, 127923, 102893, 104008, 32179, 17835, 85721, 101577, 34983, 59269, 246, 13, 113156, 109521, 96717, 30426, 18918, 125921, 120528, 115087, 58901, 1473, 286, 6498, 25, 3639, 374, 279, 6864, 315, 9822, 5380, 286, 16526, 25, 123175, 21028, 116992, 16969, 117337, 115372, 36811, 1980, 286, 6498, 25, 10699, 11352, 5869, 292, 61597, 5380, 286, 16526, 25, 106960, 84136, 101272, 102423, 18359, 121712, 24486, 126393, 123621, 115372, 36811, 1980, 286, 6498, 25, 3639, 23146, 706, 473, 2259, 362, 2727, 268, 4036, 5380, 286, 16526, 25, 114978, 61415, 49508, 101607, 13094, 121218, 24486, 59134, 34804, 118947, 115372, 36811, 1980, 286, 6498, 25, 763, 902, 17779, 1587, 473, 2259, 362, 2727, 268, 15871, 3350, 5380, 286, 16526, 25, 128009, 128006, 78191, 128007, 271, 13447, 49531, 117664, 54535, 115096, 109683, 25941, 107496, 35495, 127923, 102893, 104008, 32179, 17835, 85721, 101577, 34983, 59269, 235, 22720, 382, 16, 13, 3639, 374, 279, 6864, 315, 9822, 5380, 256, 123175, 21028, 116992, 16969, 123889, 122665, 30, 320, 1658, 685, 21028, 7438, 284, 123175, 11, 116992, 16969, 284, 66163, 696, 17, 13, 10699, 11352, 5869, 292, 61597, 5380, 256, 106960, 84136, 101272, 102423, 18359, 121712, 24486, 126393, 123621, 112130, 30, 320, 2821, 292, 61597, 25, 106960, 84136, 101272, 102423, 11, 18841, 25, 121712, 101360, 11, 889, 25, 119251, 11, 11352, 25, 121712, 24486, 11, 1732, 25, 102745, 11, 374, 25, 13094, 56154, 696, 18, 13, 3639, 23146, 706, 473, 2259, 362, 2727, 268, 4036, 5380, 256, 114978, 61415, 49508, 101607, 13094, 121218, 24486, 59134, 34804, 118947, 115372, 36811, 30, 320, 39, 2259, 362, 2727, 268, 25, 114978, 61415, 49508, 101607, 11, 21879, 25, 107094, 49531, 11, 706, 25, 13467, 20541, 11, 23146, 25, 57002, 11, 4036, 25, 24140, 57002, 24486, 696, 19, 13, 763, 902, 17779, 1587, 473, 2259, 362, 2727, 268, 15871, 3350, 5380, 256, 114978, 61415, 49508, 57139, 16969, 56773, 17835, 112700, 102027, 100968, 57575, 69332, 108047, 44005, 20565, 30, 320, 39, 2259, 362, 2727, 268, 25, 114978, 61415, 49508, 101607, 11, 15871, 25, 105572, 17835, 11, 3350, 25, 68611, 108047, 11, 304, 25, 67236, 11, 902, 25, 32179, 104207, 97, 11, 17779, 25, 102027, 100968, 11, 1587, 25, 52976, 11, 4477, 25, 69332, 108047, 11, 15871, 25, 55430, 17835, 8], 'total_duration': 118928985700, 'load_duration': 84520200, 'prompt_eval_count': 147, 'prompt_eval_duration': 31233000000, 'eval_count': 247, 'eval_duration': 87609000000}\n"
     ]
    }
   ],
   "source": [
    "import requests\n",
    "\n",
    "response = requests.post(\n",
    "    \"http://localhost:11434/api/generate\",\n",
    "    json={\n",
    "        \"model\": \"llama3.2:latest\",\n",
    "        \"prompt\": \"다음 영어 문장을 자연스럽고 정확하게 한국어로 번역해줘. 몇 가지 예시를 먼저 보여줄게:\\n\\n\\\n",
    "        English: What is the capital of France?\\n\\\n",
    "        Korean: 프랑스의 수도는 어디인가요?\\n\\n\\\n",
    "        English: Who discovered penicillin?\\n\\\n",
    "        Korean: 페니실린을 발견한 사람은 누구인가요?\\n\\n\\\n",
    "        English: What awards has Hina Ameen received?\\n\\\n",
    "        Korean: 히나 아민이 수상한 상은 무엇인가요?\\n\\n\\\n",
    "        English: In which genre does Hina Ameen primarily write?\\n\\\n",
    "        Korean:\",\n",
    "        \"stream\": False\n",
    "    }\n",
    ")\n",
    "\n",
    "print(response.json())\n"
   ]
  },
  {
   "cell_type": "code",
   "execution_count": 10,
   "metadata": {},
   "outputs": [
    {
     "name": "stdout",
     "output_type": "stream",
     "text": [
      "Requirement already satisfied: datasets in c:\\users\\songj\\appdata\\local\\programs\\python\\python311\\lib\\site-packages (3.4.1)\n",
      "Requirement already satisfied: filelock in c:\\users\\songj\\appdata\\local\\programs\\python\\python311\\lib\\site-packages (from datasets) (3.18.0)\n",
      "Requirement already satisfied: numpy>=1.17 in c:\\users\\songj\\appdata\\local\\programs\\python\\python311\\lib\\site-packages (from datasets) (2.2.4)\n",
      "Requirement already satisfied: pyarrow>=15.0.0 in c:\\users\\songj\\appdata\\local\\programs\\python\\python311\\lib\\site-packages (from datasets) (19.0.1)\n",
      "Requirement already satisfied: dill<0.3.9,>=0.3.0 in c:\\users\\songj\\appdata\\local\\programs\\python\\python311\\lib\\site-packages (from datasets) (0.3.8)\n",
      "Requirement already satisfied: pandas in c:\\users\\songj\\appdata\\local\\programs\\python\\python311\\lib\\site-packages (from datasets) (2.2.3)\n",
      "Requirement already satisfied: requests>=2.32.2 in c:\\users\\songj\\appdata\\local\\programs\\python\\python311\\lib\\site-packages (from datasets) (2.32.3)\n",
      "Requirement already satisfied: tqdm>=4.66.3 in c:\\users\\songj\\appdata\\local\\programs\\python\\python311\\lib\\site-packages (from datasets) (4.67.1)\n",
      "Requirement already satisfied: xxhash in c:\\users\\songj\\appdata\\local\\programs\\python\\python311\\lib\\site-packages (from datasets) (3.5.0)\n",
      "Requirement already satisfied: multiprocess<0.70.17 in c:\\users\\songj\\appdata\\local\\programs\\python\\python311\\lib\\site-packages (from datasets) (0.70.16)\n",
      "Requirement already satisfied: fsspec[http]<=2024.12.0,>=2023.1.0 in c:\\users\\songj\\appdata\\local\\programs\\python\\python311\\lib\\site-packages (from datasets) (2024.12.0)\n",
      "Requirement already satisfied: aiohttp in c:\\users\\songj\\appdata\\local\\programs\\python\\python311\\lib\\site-packages (from datasets) (3.11.14)\n",
      "Requirement already satisfied: huggingface-hub>=0.24.0 in c:\\users\\songj\\appdata\\local\\programs\\python\\python311\\lib\\site-packages (from datasets) (0.29.3)\n",
      "Requirement already satisfied: packaging in c:\\users\\songj\\appdata\\roaming\\python\\python311\\site-packages (from datasets) (24.2)\n",
      "Requirement already satisfied: pyyaml>=5.1 in c:\\users\\songj\\appdata\\local\\programs\\python\\python311\\lib\\site-packages (from datasets) (6.0.2)\n",
      "Requirement already satisfied: aiohappyeyeballs>=2.3.0 in c:\\users\\songj\\appdata\\local\\programs\\python\\python311\\lib\\site-packages (from aiohttp->datasets) (2.6.1)\n",
      "Requirement already satisfied: aiosignal>=1.1.2 in c:\\users\\songj\\appdata\\local\\programs\\python\\python311\\lib\\site-packages (from aiohttp->datasets) (1.3.2)\n",
      "Requirement already satisfied: attrs>=17.3.0 in c:\\users\\songj\\appdata\\local\\programs\\python\\python311\\lib\\site-packages (from aiohttp->datasets) (25.3.0)\n",
      "Requirement already satisfied: frozenlist>=1.1.1 in c:\\users\\songj\\appdata\\local\\programs\\python\\python311\\lib\\site-packages (from aiohttp->datasets) (1.5.0)\n",
      "Requirement already satisfied: multidict<7.0,>=4.5 in c:\\users\\songj\\appdata\\local\\programs\\python\\python311\\lib\\site-packages (from aiohttp->datasets) (6.2.0)\n",
      "Requirement already satisfied: propcache>=0.2.0 in c:\\users\\songj\\appdata\\local\\programs\\python\\python311\\lib\\site-packages (from aiohttp->datasets) (0.3.0)\n",
      "Requirement already satisfied: yarl<2.0,>=1.17.0 in c:\\users\\songj\\appdata\\local\\programs\\python\\python311\\lib\\site-packages (from aiohttp->datasets) (1.18.3)\n",
      "Requirement already satisfied: typing-extensions>=3.7.4.3 in c:\\users\\songj\\appdata\\roaming\\python\\python311\\site-packages (from huggingface-hub>=0.24.0->datasets) (4.12.2)\n",
      "Requirement already satisfied: charset-normalizer<4,>=2 in c:\\users\\songj\\appdata\\local\\programs\\python\\python311\\lib\\site-packages (from requests>=2.32.2->datasets) (3.4.1)\n",
      "Requirement already satisfied: idna<4,>=2.5 in c:\\users\\songj\\appdata\\local\\programs\\python\\python311\\lib\\site-packages (from requests>=2.32.2->datasets) (3.10)\n",
      "Requirement already satisfied: urllib3<3,>=1.21.1 in c:\\users\\songj\\appdata\\local\\programs\\python\\python311\\lib\\site-packages (from requests>=2.32.2->datasets) (2.3.0)\n",
      "Requirement already satisfied: certifi>=2017.4.17 in c:\\users\\songj\\appdata\\local\\programs\\python\\python311\\lib\\site-packages (from requests>=2.32.2->datasets) (2025.1.31)\n",
      "Requirement already satisfied: colorama in c:\\users\\songj\\appdata\\roaming\\python\\python311\\site-packages (from tqdm>=4.66.3->datasets) (0.4.6)\n",
      "Requirement already satisfied: python-dateutil>=2.8.2 in c:\\users\\songj\\appdata\\roaming\\python\\python311\\site-packages (from pandas->datasets) (2.9.0.post0)\n",
      "Requirement already satisfied: pytz>=2020.1 in c:\\users\\songj\\appdata\\local\\programs\\python\\python311\\lib\\site-packages (from pandas->datasets) (2025.1)\n",
      "Requirement already satisfied: tzdata>=2022.7 in c:\\users\\songj\\appdata\\local\\programs\\python\\python311\\lib\\site-packages (from pandas->datasets) (2025.2)\n",
      "Requirement already satisfied: six>=1.5 in c:\\users\\songj\\appdata\\roaming\\python\\python311\\site-packages (from python-dateutil>=2.8.2->pandas->datasets) (1.17.0)\n",
      "Note: you may need to restart the kernel to use updated packages.\n"
     ]
    },
    {
     "name": "stderr",
     "output_type": "stream",
     "text": [
      "\n",
      "[notice] A new release of pip available: 22.3 -> 25.0.1\n",
      "[notice] To update, run: python.exe -m pip install --upgrade pip\n"
     ]
    },
    {
     "name": "stdout",
     "output_type": "stream",
     "text": [
      "Collecting python-dotenv\n",
      "  Downloading python_dotenv-1.0.1-py3-none-any.whl (19 kB)\n",
      "Installing collected packages: python-dotenv\n",
      "Successfully installed python-dotenv-1.0.1\n",
      "Note: you may need to restart the kernel to use updated packages.\n"
     ]
    },
    {
     "name": "stderr",
     "output_type": "stream",
     "text": [
      "\n",
      "[notice] A new release of pip available: 22.3 -> 25.0.1\n",
      "[notice] To update, run: python.exe -m pip install --upgrade pip\n"
     ]
    },
    {
     "name": "stdout",
     "output_type": "stream",
     "text": [
      "Requirement already satisfied: pandas in c:\\users\\songj\\appdata\\local\\programs\\python\\python311\\lib\\site-packages (2.2.3)\n",
      "Requirement already satisfied: numpy>=1.23.2 in c:\\users\\songj\\appdata\\local\\programs\\python\\python311\\lib\\site-packages (from pandas) (2.2.4)\n",
      "Requirement already satisfied: python-dateutil>=2.8.2 in c:\\users\\songj\\appdata\\roaming\\python\\python311\\site-packages (from pandas) (2.9.0.post0)\n",
      "Requirement already satisfied: pytz>=2020.1 in c:\\users\\songj\\appdata\\local\\programs\\python\\python311\\lib\\site-packages (from pandas) (2025.1)\n",
      "Requirement already satisfied: tzdata>=2022.7 in c:\\users\\songj\\appdata\\local\\programs\\python\\python311\\lib\\site-packages (from pandas) (2025.2)\n",
      "Requirement already satisfied: six>=1.5 in c:\\users\\songj\\appdata\\roaming\\python\\python311\\site-packages (from python-dateutil>=2.8.2->pandas) (1.17.0)\n",
      "Note: you may need to restart the kernel to use updated packages.\n"
     ]
    },
    {
     "name": "stderr",
     "output_type": "stream",
     "text": [
      "\n",
      "[notice] A new release of pip available: 22.3 -> 25.0.1\n",
      "[notice] To update, run: python.exe -m pip install --upgrade pip\n"
     ]
    }
   ],
   "source": [
    "# 필요한 라이브러리 설치\n",
    "%pip install datasets\n",
    "%pip install python-dotenv\n",
    "%pip install pandas\n",
    "\n",
    "from datasets import load_dataset\n",
    "from dotenv import load_dotenv\n",
    "import pandas as pd\n",
    "import os\n",
    "import requests\n",
    "import json  # json 모듈 추가\n",
    "\n",
    "# .env 파일 로드\n",
    "load_dotenv()\n",
    "\n",
    "# 환경 변수에서 토큰 가져오기\n",
    "hf_token = os.getenv(\"HF_TOKEN\")\n",
    "\n",
    "# Ensure the output directory exists\n",
    "output_dir = \"TOFU\"\n",
    "if not os.path.exists(output_dir):\n",
    "    os.makedirs(output_dir)\n",
    "\n",
    "# Ollama API 엔드포인트\n",
    "OLLAMA_URL = \"http://localhost:11434/api/generate\"\n",
    "MODEL_NAME = \"llama3.2:latest\"  # 모델명 정확히 확인 필요\n",
    "\n",
    "# 번역 함수 정의\n",
    "def translate(text):\n",
    "    \"\"\"Ollama를 통해 번역 요청\"\"\"\n",
    "    print(f\"번역 중: {text[:30]}...\")  # 번역할 문장의 처음 30자 출력\n",
    "    prompt = f\"다음을 한국어로 자연스럽게 번역해줘:\\n{text}\"\n",
    "    \n",
    "    # API 요청 보내기\n",
    "    response = requests.post(OLLAMA_URL, json={\n",
    "        \"model\": MODEL_NAME,\n",
    "        \"prompt\": prompt,\n",
    "        \"stream\": False\n",
    "    })\n",
    "    \n",
    "    # 응답 처리\n",
    "    if response.status_code == 200:\n",
    "        translated_text = response.json().get(\"response\", \"\").strip()\n",
    "        print(f\"번역 완료: {translated_text[:30]}...\")  # 번역된 문장의 앞부분 30자 출력\n",
    "        return translated_text\n",
    "    else:\n",
    "        print(f\"번역 오류 발생: {response.status_code}\")\n",
    "        return \"번역 실패\"    \n"
   ]
  }
 ],
 "metadata": {
  "kernelspec": {
   "display_name": "Python 3",
   "language": "python",
   "name": "python3"
  },
  "language_info": {
   "codemirror_mode": {
    "name": "ipython",
    "version": 3
   },
   "file_extension": ".py",
   "mimetype": "text/x-python",
   "name": "python",
   "nbconvert_exporter": "python",
   "pygments_lexer": "ipython3",
   "version": "3.11.0"
  }
 },
 "nbformat": 4,
 "nbformat_minor": 2
}
